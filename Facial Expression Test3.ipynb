{
 "cells": [
  {
   "cell_type": "code",
   "execution_count": 31,
   "id": "ce953569",
   "metadata": {},
   "outputs": [
    {
     "name": "stdout",
     "output_type": "stream",
     "text": [
      "Requirement already satisfied: brewer2mpl in c:\\users\\hp\\miniconda3\\envs\\gpu\\lib\\site-packages (1.4.1)\n",
      "Note: you may need to restart the kernel to use updated packages.\n"
     ]
    }
   ],
   "source": [
    "pip install brewer2mpl"
   ]
  },
  {
   "cell_type": "code",
   "execution_count": null,
   "id": "0b52de6e",
   "metadata": {},
   "outputs": [],
   "source": [
    "#https://www.kaggle.com/code/ashishpatel26/tutorial-facial-expression-classification-keras/notebook"
   ]
  },
  {
   "cell_type": "code",
   "execution_count": 41,
   "id": "67daae17",
   "metadata": {},
   "outputs": [],
   "source": [
    "import math\n",
    "import numpy as np\n",
    "import pandas as pd\n",
    "\n",
    "import scikitplot\n",
    "import seaborn as sns\n",
    "from matplotlib import pyplot\n",
    "\n",
    "from sklearn.model_selection import train_test_split\n",
    "from sklearn.preprocessing import LabelEncoder\n",
    "from sklearn.metrics import classification_report\n",
    "\n",
    "import tensorflow as tf\n",
    "from tensorflow.keras import optimizers\n",
    "from tensorflow.keras.datasets import mnist\n",
    "from tensorflow.keras.models import Sequential\n",
    "from tensorflow.keras.layers import Flatten, Dense, Conv2D, MaxPooling2D\n",
    "from tensorflow.keras.layers import Dropout, BatchNormalization, LeakyReLU, Activation\n",
    "from tensorflow.keras.callbacks import Callback, EarlyStopping, ReduceLROnPlateau\n",
    "from tensorflow.keras.preprocessing.image import ImageDataGenerator\n",
    "\n",
    "from keras.utils import np_utils"
   ]
  },
  {
   "cell_type": "code",
   "execution_count": 56,
   "id": "accb47a5",
   "metadata": {},
   "outputs": [
    {
     "name": "stdout",
     "output_type": "stream",
     "text": [
      "(35340, 3)\n"
     ]
    },
    {
     "data": {
      "text/html": [
       "<div>\n",
       "<style scoped>\n",
       "    .dataframe tbody tr th:only-of-type {\n",
       "        vertical-align: middle;\n",
       "    }\n",
       "\n",
       "    .dataframe tbody tr th {\n",
       "        vertical-align: top;\n",
       "    }\n",
       "\n",
       "    .dataframe thead th {\n",
       "        text-align: right;\n",
       "    }\n",
       "</style>\n",
       "<table border=\"1\" class=\"dataframe\">\n",
       "  <thead>\n",
       "    <tr style=\"text-align: right;\">\n",
       "      <th></th>\n",
       "      <th>emotion</th>\n",
       "      <th>pixels</th>\n",
       "      <th>Usage</th>\n",
       "    </tr>\n",
       "  </thead>\n",
       "  <tbody>\n",
       "    <tr>\n",
       "      <th>0</th>\n",
       "      <td>0</td>\n",
       "      <td>70 80 82 72 58 58 60 63 54 58 60 48 89 115 121...</td>\n",
       "      <td>Training</td>\n",
       "    </tr>\n",
       "    <tr>\n",
       "      <th>1</th>\n",
       "      <td>0</td>\n",
       "      <td>151 150 147 155 148 133 111 140 170 174 182 15...</td>\n",
       "      <td>Training</td>\n",
       "    </tr>\n",
       "    <tr>\n",
       "      <th>2</th>\n",
       "      <td>2</td>\n",
       "      <td>231 212 156 164 174 138 161 173 182 200 106 38...</td>\n",
       "      <td>Training</td>\n",
       "    </tr>\n",
       "    <tr>\n",
       "      <th>3</th>\n",
       "      <td>4</td>\n",
       "      <td>24 32 36 30 32 23 19 20 30 41 21 22 32 34 21 1...</td>\n",
       "      <td>Training</td>\n",
       "    </tr>\n",
       "    <tr>\n",
       "      <th>4</th>\n",
       "      <td>1</td>\n",
       "      <td>4 0 0 0 0 0 0 0 0 0 0 0 3 15 23 28 48 50 58 84...</td>\n",
       "      <td>Training</td>\n",
       "    </tr>\n",
       "  </tbody>\n",
       "</table>\n",
       "</div>"
      ],
      "text/plain": [
       "   emotion                                             pixels     Usage\n",
       "0        0  70 80 82 72 58 58 60 63 54 58 60 48 89 115 121...  Training\n",
       "1        0  151 150 147 155 148 133 111 140 170 174 182 15...  Training\n",
       "2        2  231 212 156 164 174 138 161 173 182 200 106 38...  Training\n",
       "3        4  24 32 36 30 32 23 19 20 30 41 21 22 32 34 21 1...  Training\n",
       "4        1  4 0 0 0 0 0 0 0 0 0 0 0 3 15 23 28 48 50 58 84...  Training"
      ]
     },
     "execution_count": 56,
     "metadata": {},
     "output_type": "execute_result"
    }
   ],
   "source": [
    "df = pd.read_csv('./data/fer2013.csv')\n",
    "print(df.shape) # (35887, 3)\n",
    "\n",
    "df.head()"
   ]
  },
  {
   "cell_type": "code",
   "execution_count": 57,
   "id": "6836a993",
   "metadata": {},
   "outputs": [
    {
     "data": {
      "text/plain": [
       "{0: 0, 1: 1, 2: 2, 3: 3, 4: 4, 5: 5}"
      ]
     },
     "execution_count": 57,
     "metadata": {},
     "output_type": "execute_result"
    }
   ],
   "source": [
    "img_array = df.pixels.apply(lambda x: np.array(x.split(' ')).reshape(48, 48, 1).astype('float32'))\n",
    "img_array = np.stack(img_array, axis=0)\n",
    "img_array.shape # (21264, 48, 48, 1)\n",
    "\n",
    "le = LabelEncoder()\n",
    "img_labels = le.fit_transform(df.emotion)\n",
    "img_labels = np_utils.to_categorical(img_labels)\n",
    "img_labels.shape # (21264, 3)\n",
    "\n",
    "le_name_mapping = dict(zip(le.classes_, le.transform(le.classes_)))\n",
    "le_name_mapping # {3: 0, 4: 1, 6: 2}"
   ]
  },
  {
   "cell_type": "code",
   "execution_count": 58,
   "id": "a622c986",
   "metadata": {},
   "outputs": [
    {
     "name": "stdout",
     "output_type": "stream",
     "text": [
      "(31806, 48, 48, 1) (3534, 48, 48, 1) (31806, 6) (3534, 6)\n"
     ]
    }
   ],
   "source": [
    "X_train, X_test, y_train, y_test = train_test_split(\n",
    "  img_array,\n",
    "  img_labels,\n",
    "  shuffle=True, \n",
    "  stratify=img_labels,\n",
    "  test_size=0.1, \n",
    "  random_state=42\n",
    ")\n",
    "\n",
    "del df\n",
    "del img_array\n",
    "del img_labels\n",
    "\n",
    "print(X_train.shape, X_test.shape, y_train.shape, y_test.shape)\n"
   ]
  },
  {
   "cell_type": "code",
   "execution_count": 59,
   "id": "988ceac8",
   "metadata": {},
   "outputs": [
    {
     "name": "stdout",
     "output_type": "stream",
     "text": [
      "Training....\n",
      "Epoch 1/32\n",
      "249/249 [==============================] - 36s 142ms/step - loss: 1.6220 - accuracy: 0.3372 - val_loss: 1.4071 - val_accuracy: 0.4448\n",
      "Epoch 2/32\n",
      "249/249 [==============================] - 33s 133ms/step - loss: 1.3597 - accuracy: 0.4682 - val_loss: 1.2571 - val_accuracy: 0.5054\n",
      "Epoch 3/32\n",
      "249/249 [==============================] - 34s 135ms/step - loss: 1.2140 - accuracy: 0.5304 - val_loss: 1.1908 - val_accuracy: 0.5308\n",
      "Epoch 4/32\n",
      "249/249 [==============================] - 34s 135ms/step - loss: 1.1219 - accuracy: 0.5720 - val_loss: 1.1484 - val_accuracy: 0.5671\n",
      "Epoch 5/32\n",
      "249/249 [==============================] - 33s 134ms/step - loss: 1.0396 - accuracy: 0.6060 - val_loss: 1.1311 - val_accuracy: 0.5668\n",
      "Epoch 6/32\n",
      "249/249 [==============================] - 34s 135ms/step - loss: 0.9617 - accuracy: 0.6370 - val_loss: 1.1024 - val_accuracy: 0.5883\n",
      "Epoch 7/32\n",
      "249/249 [==============================] - 34s 136ms/step - loss: 0.8830 - accuracy: 0.6665 - val_loss: 1.0996 - val_accuracy: 0.5812\n",
      "Epoch 8/32\n",
      "249/249 [==============================] - 34s 137ms/step - loss: 0.7934 - accuracy: 0.7024 - val_loss: 1.1993 - val_accuracy: 0.5832\n",
      "Epoch 9/32\n",
      "249/249 [==============================] - 34s 138ms/step - loss: 0.7140 - accuracy: 0.7362 - val_loss: 1.2217 - val_accuracy: 0.5753\n",
      "Epoch 10/32\n",
      "249/249 [==============================] - 10s 39ms/step - loss: 0.6312 - accuracy: 0.7706 - val_loss: 1.2662 - val_accuracy: 0.5739\n",
      "Epoch 11/32\n",
      "249/249 [==============================] - 10s 39ms/step - loss: 0.5517 - accuracy: 0.7988 - val_loss: 1.3316 - val_accuracy: 0.5688\n",
      "Epoch 12/32\n",
      "249/249 [==============================] - 10s 39ms/step - loss: 0.4785 - accuracy: 0.8261 - val_loss: 1.5046 - val_accuracy: 0.5750\n",
      "Epoch 13/32\n",
      "249/249 [==============================] - 10s 39ms/step - loss: 0.4056 - accuracy: 0.8529 - val_loss: 1.7112 - val_accuracy: 0.5574\n",
      "Epoch 14/32\n",
      "249/249 [==============================] - 10s 39ms/step - loss: 0.3651 - accuracy: 0.8695 - val_loss: 1.7624 - val_accuracy: 0.5713\n",
      "Epoch 15/32\n",
      "249/249 [==============================] - 10s 39ms/step - loss: 0.3130 - accuracy: 0.8886 - val_loss: 1.7164 - val_accuracy: 0.5764\n",
      "Epoch 16/32\n",
      "249/249 [==============================] - 10s 39ms/step - loss: 0.2625 - accuracy: 0.9067 - val_loss: 2.1185 - val_accuracy: 0.5659\n",
      "Epoch 17/32\n",
      "249/249 [==============================] - 10s 39ms/step - loss: 0.2329 - accuracy: 0.9200 - val_loss: 2.0991 - val_accuracy: 0.5671\n",
      "Epoch 18/32\n",
      "249/249 [==============================] - 10s 39ms/step - loss: 0.2155 - accuracy: 0.9241 - val_loss: 2.2184 - val_accuracy: 0.5673\n",
      "Epoch 19/32\n",
      "249/249 [==============================] - 10s 39ms/step - loss: 0.1943 - accuracy: 0.9321 - val_loss: 2.3178 - val_accuracy: 0.5628\n",
      "Epoch 20/32\n",
      "249/249 [==============================] - 10s 39ms/step - loss: 0.1723 - accuracy: 0.9421 - val_loss: 2.4243 - val_accuracy: 0.5600\n",
      "Epoch 21/32\n",
      "249/249 [==============================] - 10s 40ms/step - loss: 0.1613 - accuracy: 0.9452 - val_loss: 2.5940 - val_accuracy: 0.5753\n",
      "Epoch 22/32\n",
      "249/249 [==============================] - 10s 39ms/step - loss: 0.1741 - accuracy: 0.9417 - val_loss: 2.4815 - val_accuracy: 0.5736\n",
      "Epoch 23/32\n",
      "249/249 [==============================] - 10s 39ms/step - loss: 0.1620 - accuracy: 0.9454 - val_loss: 2.5057 - val_accuracy: 0.5747\n",
      "Epoch 24/32\n",
      "249/249 [==============================] - 10s 39ms/step - loss: 0.1596 - accuracy: 0.9468 - val_loss: 2.3775 - val_accuracy: 0.5840\n",
      "Epoch 25/32\n",
      "249/249 [==============================] - 10s 40ms/step - loss: 0.1249 - accuracy: 0.9579 - val_loss: 2.7804 - val_accuracy: 0.5549\n",
      "Epoch 26/32\n",
      "249/249 [==============================] - 10s 40ms/step - loss: 0.1269 - accuracy: 0.9579 - val_loss: 2.5669 - val_accuracy: 0.5739\n",
      "Epoch 27/32\n",
      "249/249 [==============================] - 10s 39ms/step - loss: 0.1316 - accuracy: 0.9562 - val_loss: 2.7401 - val_accuracy: 0.5608\n",
      "Epoch 28/32\n",
      "249/249 [==============================] - 10s 39ms/step - loss: 0.1297 - accuracy: 0.9581 - val_loss: 2.7393 - val_accuracy: 0.5586\n",
      "Epoch 29/32\n",
      "249/249 [==============================] - 10s 39ms/step - loss: 0.1307 - accuracy: 0.9554 - val_loss: 2.6364 - val_accuracy: 0.5736\n",
      "Epoch 30/32\n",
      "249/249 [==============================] - 10s 39ms/step - loss: 0.1181 - accuracy: 0.9610 - val_loss: 2.8244 - val_accuracy: 0.5770\n",
      "Epoch 31/32\n",
      "249/249 [==============================] - 10s 39ms/step - loss: 0.1191 - accuracy: 0.9605 - val_loss: 2.6432 - val_accuracy: 0.5707\n",
      "Epoch 32/32\n",
      "249/249 [==============================] - 10s 40ms/step - loss: 0.1118 - accuracy: 0.9619 - val_loss: 2.9260 - val_accuracy: 0.5699\n"
     ]
    }
   ],
   "source": [
    "from keras import layers\n",
    "from keras import models\n",
    "from keras import optimizers\n",
    "\n",
    "modelN = models.Sequential()\n",
    "modelN.add(layers.Conv2D(32, (3, 3), padding='same', activation='relu',\n",
    "                        input_shape=(48, 48, 1)))\n",
    "modelN.add(layers.Conv2D(32, (3, 3), padding='same', activation='relu'))\n",
    "modelN.add(layers.Conv2D(32, (3, 3), padding='same', activation='relu'))\n",
    "modelN.add(layers.MaxPooling2D(pool_size=(2, 2)))\n",
    "\n",
    "modelN.add(layers.Conv2D(64, (3, 3), padding='same', activation='relu'))\n",
    "modelN.add(layers.Conv2D(64, (3, 3), padding='same', activation='relu'))\n",
    "modelN.add(layers.Conv2D(64, (3, 3), padding='same', activation='relu'))\n",
    "modelN.add(layers.MaxPooling2D(pool_size=(2, 2)))\n",
    "\n",
    "modelN.add(layers.Conv2D(128, (3, 3), padding='same', activation='relu'))\n",
    "modelN.add(layers.Conv2D(128, (3, 3), padding='same', activation='relu'))\n",
    "modelN.add(layers.Conv2D(128, (3, 3), padding='same', activation='relu'))\n",
    "modelN.add(layers.MaxPooling2D(pool_size=(2, 2)))\n",
    "\n",
    "modelN.add(layers.Flatten())  # this converts our 3D feature maps to 1D feature vectors\n",
    "modelN.add(layers.Dense(64, activation='relu'))\n",
    "modelN.add(layers.Dense(64, activation='relu'))\n",
    "modelN.add(layers.Dense(6, activation='softmax'))\n",
    "\n",
    "# optimizer:\n",
    "modelN.compile(loss='categorical_crossentropy', optimizer='adam', metrics=['accuracy'])\n",
    "print ('Training....')\n",
    "\n",
    "\n",
    "#fit\n",
    "nb_epoch = 32\n",
    "batch_size = 128\n",
    "\n",
    "history = modelN.fit(X_train, y_train, epochs=nb_epoch, batch_size=batch_size,\n",
    "          validation_data=(X_test, y_test), shuffle=True, verbose=1)"
   ]
  },
  {
   "cell_type": "code",
   "execution_count": 61,
   "id": "7348851a",
   "metadata": {},
   "outputs": [
    {
     "data": {
      "image/png": "[encoded data removed]",
      "text/plain": [
       "<Figure size 1008x288 with 2 Axes>"
      ]
     },
     "metadata": {
      "needs_background": "light"
     },
     "output_type": "display_data"
    }
   ],
   "source": [
    "df_accu = pd.DataFrame({'train': history.history['accuracy'], 'valid': history.history['val_accuracy']})\n",
    "df_loss = pd.DataFrame({'train': history.history['loss'], 'valid': history.history['val_loss']})\n",
    "\n",
    "fig = pyplot.figure(0, (14, 4))\n",
    "ax = pyplot.subplot(1, 2, 1)\n",
    "sns.violinplot(x=\"variable\", y=\"value\", data=pd.melt(df_accu), showfliers=False)\n",
    "pyplot.title('Accuracy')\n",
    "pyplot.tight_layout()\n",
    "\n",
    "ax = pyplot.subplot(1, 2, 2)\n",
    "sns.violinplot(x=\"variable\", y=\"value\", data=pd.melt(df_loss), showfliers=False)\n",
    "pyplot.title('Loss')\n",
    "pyplot.tight_layout()\n",
    "\n",
    "pyplot.savefig('performance_dist.png')\n",
    "pyplot.show()"
   ]
  },
  {
   "cell_type": "code",
   "execution_count": 62,
   "id": "66305cb4",
   "metadata": {},
   "outputs": [
    {
     "data": {
      "image/png": "[encoded data removed]",
      "text/plain": [
       "<Figure size 432x288 with 1 Axes>"
      ]
     },
     "metadata": {
      "needs_background": "light"
     },
     "output_type": "display_data"
    },
    {
     "data": {
      "image/png": "[encoded data removed]",
      "text/plain": [
       "<Figure size 432x288 with 1 Axes>"
      ]
     },
     "metadata": {
      "needs_background": "light"
     },
     "output_type": "display_data"
    }
   ],
   "source": [
    "acc = history.history['accuracy']\n",
    "val_acc = history.history['val_accuracy']\n",
    "loss = history.history['loss']\n",
    "val_loss = history.history['val_loss']\n",
    "epochs = range(len(acc))\n",
    "\n",
    "from matplotlib import pyplot as plt\n",
    "\n",
    "plt.plot(epochs, acc, 'r', label='Training acc')\n",
    "plt.plot(epochs, val_acc, 'b', label='testing acc')\n",
    "plt.title('Training and testing accuracy')\n",
    "plt.legend()\n",
    "plt.figure()\n",
    "\n",
    "plt.plot(epochs, loss, 'r', label='Training loss')\n",
    "plt.plot(epochs, val_loss, 'b', label='testing loss')\n",
    "plt.title('Training and testing loss')\n",
    "plt.legend()\n",
    "\n",
    "plt.show()"
   ]
  },
  {
   "cell_type": "code",
   "execution_count": null,
   "id": "1da0ac25",
   "metadata": {},
   "outputs": [],
   "source": []
  },
  {
   "cell_type": "code",
   "execution_count": null,
   "id": "f7ec4f84",
   "metadata": {},
   "outputs": [],
   "source": []
  },
  {
   "cell_type": "code",
   "execution_count": null,
   "id": "4a8127da",
   "metadata": {},
   "outputs": [],
   "source": []
  },
  {
   "cell_type": "code",
   "execution_count": null,
   "id": "739e6ec4",
   "metadata": {},
   "outputs": [],
   "source": []
  }
 ],
 "metadata": {
  "kernelspec": {
   "display_name": "Python 3 (ipykernel)",
   "language": "python",
   "name": "python3"
  },
  "language_info": {
   "codemirror_mode": {
    "name": "ipython",
    "version": 3
   },
   "file_extension": ".py",
   "mimetype": "text/x-python",
   "name": "python",
   "nbconvert_exporter": "python",
   "pygments_lexer": "ipython3",
   "version": "3.7.13"
  }
 },
 "nbformat": 4,
 "nbformat_minor": 5
}
